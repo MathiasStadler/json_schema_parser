{
 "cells": [
  {
   "cell_type": "markdown",
   "metadata": {},
   "source": [
    "# explore test\n",
    "\n",
    "## run test\n",
    "\n",
    "```bash\n",
    "# change to project folder\n",
    "# cd <project folder>\n",
    "\n",
    "# load dependency and build\n",
    "cargo build\n",
    "\n",
    "# run test all test\n",
    "cargo test\n",
    "\n",
    "# run test show command\n",
    "cargo test --verbose\n",
    "\n",
    "# run test show println!() output\n",
    "cargo test -- --nocapture\n",
    "\n",
    "```"
   ]
  },
  {
   "cell_type": "markdown",
   "metadata": {},
   "source": [
    "# [download notebook schema](https://github.com/jupyter/nbformat/blob/main/nbformat/v4/nbformat.v4.schema.json)\n",
    "\n",
    "\n",
    "\n",
    "\n",
    "```bash\n",
    "wget -o ./nbformat.v4.schema.json https://raw.githubusercontent.com/jupyter/nbformat/main/nbformat/v4/nbformat.v4.schema.json\n",
    "\n",
    "```"
   ]
  }
 ],
 "metadata": {
  "language_info": {
   "name": "python"
  }
 },
 "nbformat": 4,
 "nbformat_minor": 2
}
